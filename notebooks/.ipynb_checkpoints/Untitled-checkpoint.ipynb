{
 "cells": [
  {
   "cell_type": "code",
   "execution_count": 1,
   "metadata": {},
   "outputs": [],
   "source": [
    "import sys\n",
    "import os\n",
    "import numpy as np\n",
    "import pandas as pd\n",
    "\n",
    "from statsmodels.tsa.stattools import adfuller\n",
    "from statsmodels.tsa.arima_model import ARIMA"
   ]
  },
  {
   "cell_type": "code",
   "execution_count": 2,
   "metadata": {},
   "outputs": [
    {
     "data": {
      "text/plain": [
       "['C:\\\\Users\\\\leada\\\\AlgoTradingStuff\\\\notebooks',\n",
       " 'c:\\\\users\\\\leada\\\\anaconda3\\\\envs\\\\algotradingstuff\\\\python37.zip',\n",
       " 'c:\\\\users\\\\leada\\\\anaconda3\\\\envs\\\\algotradingstuff\\\\DLLs',\n",
       " 'c:\\\\users\\\\leada\\\\anaconda3\\\\envs\\\\algotradingstuff\\\\lib',\n",
       " 'c:\\\\users\\\\leada\\\\anaconda3\\\\envs\\\\algotradingstuff',\n",
       " '',\n",
       " 'c:\\\\users\\\\leada\\\\anaconda3\\\\envs\\\\algotradingstuff\\\\lib\\\\site-packages',\n",
       " 'c:\\\\users\\\\leada\\\\anaconda3\\\\envs\\\\algotradingstuff\\\\lib\\\\site-packages\\\\win32',\n",
       " 'c:\\\\users\\\\leada\\\\anaconda3\\\\envs\\\\algotradingstuff\\\\lib\\\\site-packages\\\\win32\\\\lib',\n",
       " 'c:\\\\users\\\\leada\\\\anaconda3\\\\envs\\\\algotradingstuff\\\\lib\\\\site-packages\\\\Pythonwin',\n",
       " 'c:\\\\users\\\\leada\\\\anaconda3\\\\envs\\\\algotradingstuff\\\\lib\\\\site-packages\\\\IPython\\\\extensions',\n",
       " 'C:\\\\Users\\\\leada\\\\.ipython']"
      ]
     },
     "execution_count": 2,
     "metadata": {},
     "output_type": "execute_result"
    }
   ],
   "source": [
    "sys.path"
   ]
  },
  {
   "cell_type": "code",
   "execution_count": 3,
   "metadata": {},
   "outputs": [],
   "source": [
    "sys.path.append('C:\\\\Users\\\\leada\\\\AlgoTradingStuff')"
   ]
  },
  {
   "cell_type": "code",
   "execution_count": 5,
   "metadata": {},
   "outputs": [],
   "source": [
    "from api_models.models import Account, get_account, get_accounts"
   ]
  },
  {
   "cell_type": "code",
   "execution_count": null,
   "metadata": {},
   "outputs": [],
   "source": []
  }
 ],
 "metadata": {
  "kernelspec": {
   "display_name": "Python 3",
   "language": "python",
   "name": "python3"
  },
  "language_info": {
   "codemirror_mode": {
    "name": "ipython",
    "version": 3
   },
   "file_extension": ".py",
   "mimetype": "text/x-python",
   "name": "python",
   "nbconvert_exporter": "python",
   "pygments_lexer": "ipython3",
   "version": "3.7.6"
  }
 },
 "nbformat": 4,
 "nbformat_minor": 4
}
