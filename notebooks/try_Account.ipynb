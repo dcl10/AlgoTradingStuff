{
 "cells": [
  {
   "cell_type": "code",
   "execution_count": 1,
   "metadata": {},
   "outputs": [],
   "source": [
    "import sys\n",
    "import os\n",
    "import numpy as np\n",
    "import pandas as pd\n",
    "import matplotlib.pyplot as plt\n",
    "import seaborn as sns\n",
    "%matplotlib inline\n",
    "\n",
    "from configparser import ConfigParser\n",
    "from statsmodels.tsa.stattools import adfuller\n",
    "from statsmodels.tsa.arima_model import ARIMA"
   ]
  },
  {
   "cell_type": "code",
   "execution_count": 2,
   "metadata": {},
   "outputs": [
    {
     "data": {
      "text/plain": [
       "['C:\\\\Users\\\\leada\\\\AlgoTradingStuff\\\\notebooks',\n",
       " 'c:\\\\users\\\\leada\\\\anaconda3\\\\envs\\\\algotradingstuff\\\\python37.zip',\n",
       " 'c:\\\\users\\\\leada\\\\anaconda3\\\\envs\\\\algotradingstuff\\\\DLLs',\n",
       " 'c:\\\\users\\\\leada\\\\anaconda3\\\\envs\\\\algotradingstuff\\\\lib',\n",
       " 'c:\\\\users\\\\leada\\\\anaconda3\\\\envs\\\\algotradingstuff',\n",
       " '',\n",
       " 'c:\\\\users\\\\leada\\\\anaconda3\\\\envs\\\\algotradingstuff\\\\lib\\\\site-packages',\n",
       " 'c:\\\\users\\\\leada\\\\anaconda3\\\\envs\\\\algotradingstuff\\\\lib\\\\site-packages\\\\win32',\n",
       " 'c:\\\\users\\\\leada\\\\anaconda3\\\\envs\\\\algotradingstuff\\\\lib\\\\site-packages\\\\win32\\\\lib',\n",
       " 'c:\\\\users\\\\leada\\\\anaconda3\\\\envs\\\\algotradingstuff\\\\lib\\\\site-packages\\\\Pythonwin',\n",
       " 'c:\\\\users\\\\leada\\\\anaconda3\\\\envs\\\\algotradingstuff\\\\lib\\\\site-packages\\\\IPython\\\\extensions',\n",
       " 'C:\\\\Users\\\\leada\\\\.ipython']"
      ]
     },
     "execution_count": 2,
     "metadata": {},
     "output_type": "execute_result"
    }
   ],
   "source": [
    "sys.path"
   ]
  },
  {
   "cell_type": "code",
   "execution_count": 3,
   "metadata": {},
   "outputs": [],
   "source": [
    "if 'C:\\\\Users\\\\leada\\\\AlgoTradingStuff' not in sys.path:\n",
    "    sys.path.append('C:\\\\Users\\\\leada\\\\AlgoTradingStuff')"
   ]
  },
  {
   "cell_type": "code",
   "execution_count": 4,
   "metadata": {},
   "outputs": [],
   "source": [
    "from api_models.models import Account, get_account, get_accounts"
   ]
  },
  {
   "cell_type": "code",
   "execution_count": 5,
   "metadata": {},
   "outputs": [],
   "source": [
    "ini = ConfigParser()\n",
    "ini.read('../oanda.txt')\n",
    "api_key = ini['oanda'].get('api_key')\n",
    "base_url = ini['oanda'].get('base_url')\n",
    "account_id = ini['oanda'].get('primary_account')"
   ]
  },
  {
   "cell_type": "code",
   "execution_count": 6,
   "metadata": {},
   "outputs": [],
   "source": [
    "account = Account(api_key=api_key, base_url=base_url, account_id=account_id)"
   ]
  },
  {
   "cell_type": "code",
   "execution_count": 7,
   "metadata": {},
   "outputs": [
    {
     "data": {
      "text/plain": [
       "Account(api_key: <secret>, base_url: https://api-fxpractice.oanda.com/v3, account_id: 101-004-12979612-001"
      ]
     },
     "execution_count": 7,
     "metadata": {},
     "output_type": "execute_result"
    }
   ],
   "source": [
    "account"
   ]
  },
  {
   "cell_type": "code",
   "execution_count": 8,
   "metadata": {},
   "outputs": [],
   "source": [
    "import datetime as dt\n",
    "candles = account.get_candles('GBP_JPY', \n",
    "                              since=dt.datetime(2020, 1, 3), \n",
    "                              to=dt.datetime(2020, 1, 12), \n",
    "                              granularity='M30',\n",
    "                              count=1000)\n",
    "candles\n",
    "df = pd.DataFrame(columns=['time', 'open', 'high', 'low', 'close'])\n",
    "for i, candle in enumerate(candles):\n",
    "    t = candle.get('time')\n",
    "    ohlc = candle.get('mid')\n",
    "    o = np.float32(ohlc.get('o'))\n",
    "    h = np.float32(ohlc.get('h'))\n",
    "    l = np.float32(ohlc.get('l'))\n",
    "    c = np.float32(ohlc.get('c'))\n",
    "    df.loc[i, :] = [t, o, h, l, c]\n",
    "df['time'] = pd.to_datetime(df['time'])\n",
    "df.set_index('time', inplace=True)"
   ]
  },
  {
   "cell_type": "code",
   "execution_count": 9,
   "metadata": {},
   "outputs": [
    {
     "data": {
      "text/html": [
       "<div>\n",
       "<style scoped>\n",
       "    .dataframe tbody tr th:only-of-type {\n",
       "        vertical-align: middle;\n",
       "    }\n",
       "\n",
       "    .dataframe tbody tr th {\n",
       "        vertical-align: top;\n",
       "    }\n",
       "\n",
       "    .dataframe thead th {\n",
       "        text-align: right;\n",
       "    }\n",
       "</style>\n",
       "<table border=\"1\" class=\"dataframe\">\n",
       "  <thead>\n",
       "    <tr style=\"text-align: right;\">\n",
       "      <th></th>\n",
       "      <th>open</th>\n",
       "      <th>high</th>\n",
       "      <th>low</th>\n",
       "      <th>close</th>\n",
       "    </tr>\n",
       "    <tr>\n",
       "      <th>time</th>\n",
       "      <th></th>\n",
       "      <th></th>\n",
       "      <th></th>\n",
       "      <th></th>\n",
       "    </tr>\n",
       "  </thead>\n",
       "  <tbody>\n",
       "    <tr>\n",
       "      <th>2019-12-20 00:30:00+00:00</th>\n",
       "      <td>142.228</td>\n",
       "      <td>142.312</td>\n",
       "      <td>142.226</td>\n",
       "      <td>142.264</td>\n",
       "    </tr>\n",
       "    <tr>\n",
       "      <th>2019-12-20 01:00:00+00:00</th>\n",
       "      <td>142.262</td>\n",
       "      <td>142.31</td>\n",
       "      <td>142.21</td>\n",
       "      <td>142.226</td>\n",
       "    </tr>\n",
       "    <tr>\n",
       "      <th>2019-12-20 01:30:00+00:00</th>\n",
       "      <td>142.224</td>\n",
       "      <td>142.365</td>\n",
       "      <td>142.198</td>\n",
       "      <td>142.363</td>\n",
       "    </tr>\n",
       "    <tr>\n",
       "      <th>2019-12-20 02:00:00+00:00</th>\n",
       "      <td>142.366</td>\n",
       "      <td>142.372</td>\n",
       "      <td>142.318</td>\n",
       "      <td>142.34</td>\n",
       "    </tr>\n",
       "    <tr>\n",
       "      <th>2019-12-20 02:30:00+00:00</th>\n",
       "      <td>142.342</td>\n",
       "      <td>142.362</td>\n",
       "      <td>142.322</td>\n",
       "      <td>142.345</td>\n",
       "    </tr>\n",
       "  </tbody>\n",
       "</table>\n",
       "</div>"
      ],
      "text/plain": [
       "                              open     high      low    close\n",
       "time                                                         \n",
       "2019-12-20 00:30:00+00:00  142.228  142.312  142.226  142.264\n",
       "2019-12-20 01:00:00+00:00  142.262   142.31   142.21  142.226\n",
       "2019-12-20 01:30:00+00:00  142.224  142.365  142.198  142.363\n",
       "2019-12-20 02:00:00+00:00  142.366  142.372  142.318   142.34\n",
       "2019-12-20 02:30:00+00:00  142.342  142.362  142.322  142.345"
      ]
     },
     "execution_count": 9,
     "metadata": {},
     "output_type": "execute_result"
    }
   ],
   "source": [
    "df.head()"
   ]
  },
  {
   "cell_type": "code",
   "execution_count": 10,
   "metadata": {},
   "outputs": [
    {
     "data": {
      "text/html": [
       "<div>\n",
       "<style scoped>\n",
       "    .dataframe tbody tr th:only-of-type {\n",
       "        vertical-align: middle;\n",
       "    }\n",
       "\n",
       "    .dataframe tbody tr th {\n",
       "        vertical-align: top;\n",
       "    }\n",
       "\n",
       "    .dataframe thead th {\n",
       "        text-align: right;\n",
       "    }\n",
       "</style>\n",
       "<table border=\"1\" class=\"dataframe\">\n",
       "  <thead>\n",
       "    <tr style=\"text-align: right;\">\n",
       "      <th></th>\n",
       "      <th>open</th>\n",
       "      <th>high</th>\n",
       "      <th>low</th>\n",
       "      <th>close</th>\n",
       "    </tr>\n",
       "    <tr>\n",
       "      <th>time</th>\n",
       "      <th></th>\n",
       "      <th></th>\n",
       "      <th></th>\n",
       "      <th></th>\n",
       "    </tr>\n",
       "  </thead>\n",
       "  <tbody>\n",
       "    <tr>\n",
       "      <th>2019-12-20 01:00:00+00:00</th>\n",
       "      <td>0.000239</td>\n",
       "      <td>-0.000014</td>\n",
       "      <td>-0.000112</td>\n",
       "      <td>-0.000267</td>\n",
       "    </tr>\n",
       "    <tr>\n",
       "      <th>2019-12-20 01:30:00+00:00</th>\n",
       "      <td>-0.000267</td>\n",
       "      <td>0.000387</td>\n",
       "      <td>-0.000084</td>\n",
       "      <td>0.000963</td>\n",
       "    </tr>\n",
       "    <tr>\n",
       "      <th>2019-12-20 02:00:00+00:00</th>\n",
       "      <td>0.000998</td>\n",
       "      <td>0.000049</td>\n",
       "      <td>0.000844</td>\n",
       "      <td>-0.000162</td>\n",
       "    </tr>\n",
       "    <tr>\n",
       "      <th>2019-12-20 02:30:00+00:00</th>\n",
       "      <td>-0.000169</td>\n",
       "      <td>-0.000070</td>\n",
       "      <td>0.000028</td>\n",
       "      <td>0.000035</td>\n",
       "    </tr>\n",
       "    <tr>\n",
       "      <th>2019-12-20 03:00:00+00:00</th>\n",
       "      <td>0.000000</td>\n",
       "      <td>0.000070</td>\n",
       "      <td>0.000035</td>\n",
       "      <td>0.000049</td>\n",
       "    </tr>\n",
       "  </tbody>\n",
       "</table>\n",
       "</div>"
      ],
      "text/plain": [
       "                               open      high       low     close\n",
       "time                                                             \n",
       "2019-12-20 01:00:00+00:00  0.000239 -0.000014 -0.000112 -0.000267\n",
       "2019-12-20 01:30:00+00:00 -0.000267  0.000387 -0.000084  0.000963\n",
       "2019-12-20 02:00:00+00:00  0.000998  0.000049  0.000844 -0.000162\n",
       "2019-12-20 02:30:00+00:00 -0.000169 -0.000070  0.000028  0.000035\n",
       "2019-12-20 03:00:00+00:00  0.000000  0.000070  0.000035  0.000049"
      ]
     },
     "execution_count": 10,
     "metadata": {},
     "output_type": "execute_result"
    }
   ],
   "source": [
    "dfpct = df.pct_change().dropna()\n",
    "dfpct.head()"
   ]
  },
  {
   "cell_type": "code",
   "execution_count": 11,
   "metadata": {},
   "outputs": [
    {
     "data": {
      "text/plain": [
       "(-31.337492881293915,\n",
       " 0.0,\n",
       " 0,\n",
       " 998,\n",
       " {'1%': -3.4369193380671, '5%': -2.864440383452517, '10%': -2.56831430323573},\n",
       " -11231.35971815472)"
      ]
     },
     "execution_count": 11,
     "metadata": {},
     "output_type": "execute_result"
    }
   ],
   "source": [
    "adfuller(dfpct['open'])"
   ]
  },
  {
   "cell_type": "code",
   "execution_count": 12,
   "metadata": {},
   "outputs": [
    {
     "data": {
      "text/html": [
       "<div>\n",
       "<style scoped>\n",
       "    .dataframe tbody tr th:only-of-type {\n",
       "        vertical-align: middle;\n",
       "    }\n",
       "\n",
       "    .dataframe tbody tr th {\n",
       "        vertical-align: top;\n",
       "    }\n",
       "\n",
       "    .dataframe thead th {\n",
       "        text-align: right;\n",
       "    }\n",
       "</style>\n",
       "<table border=\"1\" class=\"dataframe\">\n",
       "  <thead>\n",
       "    <tr style=\"text-align: right;\">\n",
       "      <th></th>\n",
       "      <th>open</th>\n",
       "      <th>high</th>\n",
       "      <th>low</th>\n",
       "      <th>close</th>\n",
       "    </tr>\n",
       "  </thead>\n",
       "  <tbody>\n",
       "    <tr>\n",
       "      <th>count</th>\n",
       "      <td>999.000000</td>\n",
       "      <td>999.000000</td>\n",
       "      <td>999.000000</td>\n",
       "      <td>999.000000</td>\n",
       "    </tr>\n",
       "    <tr>\n",
       "      <th>mean</th>\n",
       "      <td>0.000008</td>\n",
       "      <td>0.000007</td>\n",
       "      <td>0.000008</td>\n",
       "      <td>0.000007</td>\n",
       "    </tr>\n",
       "    <tr>\n",
       "      <th>std</th>\n",
       "      <td>0.000761</td>\n",
       "      <td>0.000664</td>\n",
       "      <td>0.000725</td>\n",
       "      <td>0.000760</td>\n",
       "    </tr>\n",
       "    <tr>\n",
       "      <th>min</th>\n",
       "      <td>-0.004147</td>\n",
       "      <td>-0.003471</td>\n",
       "      <td>-0.003747</td>\n",
       "      <td>-0.004071</td>\n",
       "    </tr>\n",
       "    <tr>\n",
       "      <th>25%</th>\n",
       "      <td>-0.000377</td>\n",
       "      <td>-0.000293</td>\n",
       "      <td>-0.000237</td>\n",
       "      <td>-0.000377</td>\n",
       "    </tr>\n",
       "    <tr>\n",
       "      <th>50%</th>\n",
       "      <td>0.000021</td>\n",
       "      <td>-0.000014</td>\n",
       "      <td>0.000049</td>\n",
       "      <td>0.000014</td>\n",
       "    </tr>\n",
       "    <tr>\n",
       "      <th>75%</th>\n",
       "      <td>0.000354</td>\n",
       "      <td>0.000281</td>\n",
       "      <td>0.000297</td>\n",
       "      <td>0.000362</td>\n",
       "    </tr>\n",
       "    <tr>\n",
       "      <th>max</th>\n",
       "      <td>0.004383</td>\n",
       "      <td>0.003775</td>\n",
       "      <td>0.004383</td>\n",
       "      <td>0.004411</td>\n",
       "    </tr>\n",
       "  </tbody>\n",
       "</table>\n",
       "</div>"
      ],
      "text/plain": [
       "             open        high         low       close\n",
       "count  999.000000  999.000000  999.000000  999.000000\n",
       "mean     0.000008    0.000007    0.000008    0.000007\n",
       "std      0.000761    0.000664    0.000725    0.000760\n",
       "min     -0.004147   -0.003471   -0.003747   -0.004071\n",
       "25%     -0.000377   -0.000293   -0.000237   -0.000377\n",
       "50%      0.000021   -0.000014    0.000049    0.000014\n",
       "75%      0.000354    0.000281    0.000297    0.000362\n",
       "max      0.004383    0.003775    0.004383    0.004411"
      ]
     },
     "execution_count": 12,
     "metadata": {},
     "output_type": "execute_result"
    }
   ],
   "source": [
    "dfpct.describe()"
   ]
  },
  {
   "cell_type": "code",
   "execution_count": 13,
   "metadata": {},
   "outputs": [],
   "source": [
    "import skfuzzy as fuzz\n",
    "import skfuzzy.control as ctrl"
   ]
  },
  {
   "cell_type": "code",
   "execution_count": 32,
   "metadata": {},
   "outputs": [],
   "source": [
    "# Define antecedents\n",
    "ante_close = ctrl.Antecedent(dfpct['close'].shift(1, fill_value=0.0), 'close-1')\n",
    "cons_close = ctrl.Consequent(dfpct['close'], 'close')\n",
    "\n",
    "ante_close.automf(3)\n",
    "\n",
    "# Quantiles for rule boundaries\n",
    "df_quants = dfpct['close'].quantile([.25, .5, .75])\n",
    "\n",
    "cons_close['sell'] = fuzz.trimf(cons_close.universe, [dfpct['close'].min(), df_quants.loc[0.25], 0])\n",
    "cons_close['hold'] = fuzz.trimf(cons_close.universe, [df_quants.loc[0.25], 0, df_quants.loc[0.75]])\n",
    "cons_close['buy'] = fuzz.trimf(cons_close.universe, [0, df_quants.loc[0.75], dfpct['close'].max()])"
   ]
  },
  {
   "cell_type": "code",
   "execution_count": 15,
   "metadata": {},
   "outputs": [
    {
     "name": "stderr",
     "output_type": "stream",
     "text": [
      "c:\\users\\leada\\anaconda3\\envs\\algotradingstuff\\lib\\site-packages\\skfuzzy\\control\\term.py:74: UserWarning: Matplotlib is currently using module://ipykernel.pylab.backend_inline, which is a non-GUI backend, so cannot show the figure.\n",
      "  fig.show()\n"
     ]
    },
    {
     "data": {
      "image/png": "[encoded data removed]",
      "text/plain": [
       "<Figure size 432x288 with 1 Axes>"
      ]
     },
     "metadata": {
      "needs_background": "light"
     },
     "output_type": "display_data"
    }
   ],
   "source": [
    "ante_close['average'].view()"
   ]
  },
  {
   "cell_type": "code",
   "execution_count": 34,
   "metadata": {},
   "outputs": [
    {
     "ename": "ValueError",
     "evalue": "Unexpected consequent type",
     "output_type": "error",
     "traceback": [
      "\u001b[1;31m---------------------------------------------------------------------------\u001b[0m",
      "\u001b[1;31mValueError\u001b[0m                                Traceback (most recent call last)",
      "\u001b[1;32m<ipython-input-34-f76f63468a65>\u001b[0m in \u001b[0;36m<module>\u001b[1;34m\u001b[0m\n\u001b[0;32m      1\u001b[0m \u001b[1;31m# Set up the rules\u001b[0m\u001b[1;33m\u001b[0m\u001b[1;33m\u001b[0m\u001b[1;33m\u001b[0m\u001b[0m\n\u001b[1;32m----> 2\u001b[1;33m \u001b[0mrule1\u001b[0m \u001b[1;33m=\u001b[0m \u001b[0mctrl\u001b[0m\u001b[1;33m.\u001b[0m\u001b[0mRule\u001b[0m\u001b[1;33m(\u001b[0m\u001b[0mante_close\u001b[0m\u001b[1;33m[\u001b[0m\u001b[1;34m'poor'\u001b[0m\u001b[1;33m]\u001b[0m\u001b[1;33m,\u001b[0m \u001b[0mcons_close\u001b[0m\u001b[1;33m[\u001b[0m\u001b[1;34m'sell'\u001b[0m\u001b[1;33m]\u001b[0m \u001b[1;33m|\u001b[0m \u001b[0mcons_close\u001b[0m\u001b[1;33m[\u001b[0m\u001b[1;34m'hold'\u001b[0m\u001b[1;33m]\u001b[0m \u001b[1;33m|\u001b[0m \u001b[0mcons_close\u001b[0m\u001b[1;33m[\u001b[0m\u001b[1;34m'buy'\u001b[0m\u001b[1;33m]\u001b[0m\u001b[1;33m)\u001b[0m\u001b[1;33m\u001b[0m\u001b[1;33m\u001b[0m\u001b[0m\n\u001b[0m\u001b[0;32m      3\u001b[0m \u001b[0mrule1\u001b[0m \u001b[1;33m=\u001b[0m \u001b[0mctrl\u001b[0m\u001b[1;33m.\u001b[0m\u001b[0mRule\u001b[0m\u001b[1;33m(\u001b[0m\u001b[0mante_close\u001b[0m\u001b[1;33m[\u001b[0m\u001b[1;34m'average'\u001b[0m\u001b[1;33m]\u001b[0m\u001b[1;33m,\u001b[0m \u001b[0mcons_close\u001b[0m\u001b[1;33m[\u001b[0m\u001b[1;34m'sell'\u001b[0m\u001b[1;33m]\u001b[0m \u001b[1;33m|\u001b[0m \u001b[0mcons_close\u001b[0m\u001b[1;33m[\u001b[0m\u001b[1;34m'hold'\u001b[0m\u001b[1;33m]\u001b[0m \u001b[1;33m|\u001b[0m \u001b[0mcons_close\u001b[0m\u001b[1;33m[\u001b[0m\u001b[1;34m'buy'\u001b[0m\u001b[1;33m]\u001b[0m\u001b[1;33m)\u001b[0m\u001b[1;33m\u001b[0m\u001b[1;33m\u001b[0m\u001b[0m\n\u001b[0;32m      4\u001b[0m \u001b[0mrule1\u001b[0m \u001b[1;33m=\u001b[0m \u001b[0mctrl\u001b[0m\u001b[1;33m.\u001b[0m\u001b[0mRule\u001b[0m\u001b[1;33m(\u001b[0m\u001b[0mante_close\u001b[0m\u001b[1;33m[\u001b[0m\u001b[1;34m'good'\u001b[0m\u001b[1;33m]\u001b[0m\u001b[1;33m,\u001b[0m \u001b[0mcons_close\u001b[0m\u001b[1;33m[\u001b[0m\u001b[1;34m'sell'\u001b[0m\u001b[1;33m]\u001b[0m \u001b[1;33m|\u001b[0m \u001b[0mcons_close\u001b[0m\u001b[1;33m[\u001b[0m\u001b[1;34m'hold'\u001b[0m\u001b[1;33m]\u001b[0m \u001b[1;33m|\u001b[0m \u001b[0mcons_close\u001b[0m\u001b[1;33m[\u001b[0m\u001b[1;34m'buy'\u001b[0m\u001b[1;33m]\u001b[0m\u001b[1;33m)\u001b[0m\u001b[1;33m\u001b[0m\u001b[1;33m\u001b[0m\u001b[0m\n\u001b[0;32m      5\u001b[0m \u001b[0mrule1\u001b[0m\u001b[1;33m.\u001b[0m\u001b[0mview\u001b[0m\u001b[1;33m(\u001b[0m\u001b[1;33m)\u001b[0m\u001b[1;33m\u001b[0m\u001b[1;33m\u001b[0m\u001b[0m\n",
      "\u001b[1;32mc:\\users\\leada\\anaconda3\\envs\\algotradingstuff\\lib\\site-packages\\skfuzzy\\control\\rule.py\u001b[0m in \u001b[0;36m__init__\u001b[1;34m(self, antecedent, consequent, label, and_func, or_func)\u001b[0m\n\u001b[0;32m     89\u001b[0m             \u001b[0mself\u001b[0m\u001b[1;33m.\u001b[0m\u001b[0mantecedent\u001b[0m \u001b[1;33m=\u001b[0m \u001b[0mantecedent\u001b[0m\u001b[1;33m\u001b[0m\u001b[1;33m\u001b[0m\u001b[0m\n\u001b[0;32m     90\u001b[0m         \u001b[1;32mif\u001b[0m \u001b[0mconsequent\u001b[0m \u001b[1;32mis\u001b[0m \u001b[1;32mnot\u001b[0m \u001b[1;32mNone\u001b[0m\u001b[1;33m:\u001b[0m\u001b[1;33m\u001b[0m\u001b[1;33m\u001b[0m\u001b[0m\n\u001b[1;32m---> 91\u001b[1;33m             \u001b[0mself\u001b[0m\u001b[1;33m.\u001b[0m\u001b[0mconsequent\u001b[0m \u001b[1;33m=\u001b[0m \u001b[0mconsequent\u001b[0m\u001b[1;33m\u001b[0m\u001b[1;33m\u001b[0m\u001b[0m\n\u001b[0m\u001b[0;32m     92\u001b[0m \u001b[1;33m\u001b[0m\u001b[0m\n\u001b[0;32m     93\u001b[0m         \u001b[1;32mif\u001b[0m \u001b[0mlabel\u001b[0m \u001b[1;32mis\u001b[0m \u001b[1;32mnot\u001b[0m \u001b[1;32mNone\u001b[0m\u001b[1;33m:\u001b[0m\u001b[1;33m\u001b[0m\u001b[1;33m\u001b[0m\u001b[0m\n",
      "\u001b[1;32mc:\\users\\leada\\anaconda3\\envs\\algotradingstuff\\lib\\site-packages\\skfuzzy\\control\\rule.py\u001b[0m in \u001b[0;36mconsequent\u001b[1;34m(self, value)\u001b[0m\n\u001b[0;32m    219\u001b[0m \u001b[1;33m\u001b[0m\u001b[0m\n\u001b[0;32m    220\u001b[0m         \u001b[1;32melif\u001b[0m \u001b[1;32mnot\u001b[0m \u001b[0mhasattr\u001b[0m\u001b[1;33m(\u001b[0m\u001b[0mvalue\u001b[0m\u001b[1;33m,\u001b[0m \u001b[1;34m'__iter__'\u001b[0m\u001b[1;33m)\u001b[0m\u001b[1;33m:\u001b[0m\u001b[1;33m\u001b[0m\u001b[1;33m\u001b[0m\u001b[0m\n\u001b[1;32m--> 221\u001b[1;33m             \u001b[1;32mraise\u001b[0m \u001b[0mValueError\u001b[0m\u001b[1;33m(\u001b[0m\u001b[1;34m\"Unexpected consequent type\"\u001b[0m\u001b[1;33m)\u001b[0m\u001b[1;33m\u001b[0m\u001b[1;33m\u001b[0m\u001b[0m\n\u001b[0m\u001b[0;32m    222\u001b[0m \u001b[1;33m\u001b[0m\u001b[0m\n\u001b[0;32m    223\u001b[0m         \u001b[1;32melse\u001b[0m\u001b[1;33m:\u001b[0m\u001b[1;33m\u001b[0m\u001b[1;33m\u001b[0m\u001b[0m\n",
      "\u001b[1;31mValueError\u001b[0m: Unexpected consequent type"
     ]
    }
   ],
   "source": [
    "# Set up the rules\n",
    "rule1 = ctrl.Rule(ante_close['poor'], cons_close['sell'] | cons_close['hold'] | cons_close['buy'])\n",
    "rule1 = ctrl.Rule(ante_close['average'], cons_close['sell'] | cons_close['hold'] | cons_close['buy'])\n",
    "rule1 = ctrl.Rule(ante_close['good'], cons_close['sell'] | cons_close['hold'] | cons_close['buy'])\n",
    "rule1.view()"
   ]
  },
  {
   "cell_type": "code",
   "execution_count": 33,
   "metadata": {},
   "outputs": [
    {
     "data": {
      "text/plain": [
       "time\n",
       "2019-12-20 01:00:00+00:00    0.000000\n",
       "2019-12-20 01:30:00+00:00   -0.000267\n",
       "2019-12-20 02:00:00+00:00    0.000963\n",
       "2019-12-20 02:30:00+00:00   -0.000162\n",
       "2019-12-20 03:00:00+00:00    0.000035\n",
       "Name: close, dtype: float64"
      ]
     },
     "execution_count": 33,
     "metadata": {},
     "output_type": "execute_result"
    }
   ],
   "source": [
    "dfpct['close'].shift(1, fill_value=0.0).head()"
   ]
  },
  {
   "cell_type": "code",
   "execution_count": null,
   "metadata": {},
   "outputs": [],
   "source": []
  }
 ],
 "metadata": {
  "kernelspec": {
   "display_name": "Python 3",
   "language": "python",
   "name": "python3"
  },
  "language_info": {
   "codemirror_mode": {
    "name": "ipython",
    "version": 3
   },
   "file_extension": ".py",
   "mimetype": "text/x-python",
   "name": "python",
   "nbconvert_exporter": "python",
   "pygments_lexer": "ipython3",
   "version": "3.7.6"
  }
 },
 "nbformat": 4,
 "nbformat_minor": 4
}
