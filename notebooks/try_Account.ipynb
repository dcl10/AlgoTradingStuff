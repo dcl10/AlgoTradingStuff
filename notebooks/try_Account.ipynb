{
 "cells": [
  {
   "cell_type": "code",
   "execution_count": 1,
   "metadata": {},
   "outputs": [],
   "source": [
    "import sys\n",
    "import os\n",
    "import numpy as np\n",
    "import pandas as pd\n",
    "\n",
    "from configparser import ConfigParser\n",
    "from statsmodels.tsa.stattools import adfuller\n",
    "from statsmodels.tsa.arima_model import ARIMA"
   ]
  },
  {
   "cell_type": "code",
   "execution_count": 2,
   "metadata": {},
   "outputs": [
    {
     "data": {
      "text/plain": [
       "['C:\\\\Users\\\\leada\\\\AlgoTradingStuff\\\\notebooks',\n",
       " 'c:\\\\users\\\\leada\\\\anaconda3\\\\envs\\\\algotradingstuff\\\\python37.zip',\n",
       " 'c:\\\\users\\\\leada\\\\anaconda3\\\\envs\\\\algotradingstuff\\\\DLLs',\n",
       " 'c:\\\\users\\\\leada\\\\anaconda3\\\\envs\\\\algotradingstuff\\\\lib',\n",
       " 'c:\\\\users\\\\leada\\\\anaconda3\\\\envs\\\\algotradingstuff',\n",
       " '',\n",
       " 'c:\\\\users\\\\leada\\\\anaconda3\\\\envs\\\\algotradingstuff\\\\lib\\\\site-packages',\n",
       " 'c:\\\\users\\\\leada\\\\anaconda3\\\\envs\\\\algotradingstuff\\\\lib\\\\site-packages\\\\win32',\n",
       " 'c:\\\\users\\\\leada\\\\anaconda3\\\\envs\\\\algotradingstuff\\\\lib\\\\site-packages\\\\win32\\\\lib',\n",
       " 'c:\\\\users\\\\leada\\\\anaconda3\\\\envs\\\\algotradingstuff\\\\lib\\\\site-packages\\\\Pythonwin',\n",
       " 'c:\\\\users\\\\leada\\\\anaconda3\\\\envs\\\\algotradingstuff\\\\lib\\\\site-packages\\\\IPython\\\\extensions',\n",
       " 'C:\\\\Users\\\\leada\\\\.ipython']"
      ]
     },
     "execution_count": 2,
     "metadata": {},
     "output_type": "execute_result"
    }
   ],
   "source": [
    "sys.path"
   ]
  },
  {
   "cell_type": "code",
   "execution_count": 3,
   "metadata": {},
   "outputs": [],
   "source": [
    "if 'C:\\\\Users\\\\leada\\\\AlgoTradingStuff' not in sys.path:\n",
    "    sys.path.append('C:\\\\Users\\\\leada\\\\AlgoTradingStuff')"
   ]
  },
  {
   "cell_type": "code",
   "execution_count": 4,
   "metadata": {},
   "outputs": [],
   "source": [
    "from api_models.models import Account, get_account, get_accounts"
   ]
  },
  {
   "cell_type": "code",
   "execution_count": 5,
   "metadata": {},
   "outputs": [],
   "source": [
    "ini = ConfigParser()\n",
    "ini.read('../oanda.txt')\n",
    "api_key = ini['oanda'].get('api_key')\n",
    "base_url = ini['oanda'].get('base_url')\n",
    "account_id = ini['oanda'].get('primary_account')"
   ]
  },
  {
   "cell_type": "code",
   "execution_count": 6,
   "metadata": {},
   "outputs": [],
   "source": [
    "account = Account(api_key=api_key, base_url=base_url, account_id=account_id)"
   ]
  },
  {
   "cell_type": "code",
   "execution_count": 7,
   "metadata": {},
   "outputs": [
    {
     "data": {
      "text/plain": [
       "Account(api_key: <secret>, base_url: https://api-fxpractice.oanda.com/v3, account_id: 101-004-12979612-001"
      ]
     },
     "execution_count": 7,
     "metadata": {},
     "output_type": "execute_result"
    }
   ],
   "source": [
    "account"
   ]
  },
  {
   "cell_type": "code",
   "execution_count": 8,
   "metadata": {},
   "outputs": [],
   "source": [
    "import datetime as dt\n",
    "candles = account.get_candles('GBP_USD', \n",
    "                              since=dt.datetime(2020, 1, 3), \n",
    "                              to=dt.datetime(2020, 1, 12), \n",
    "                              granularity='M15',\n",
    "                              count=1000)\n",
    "candles\n",
    "df = pd.DataFrame(columns=['time', 'open', 'high', 'low', 'close'])\n",
    "for i, candle in enumerate(candles):\n",
    "    t = candle.get('time')\n",
    "    ohlc = candle.get('mid')\n",
    "    o = np.float32(ohlc.get('o'))\n",
    "    h = np.float32(ohlc.get('h'))\n",
    "    l = np.float32(ohlc.get('l'))\n",
    "    c = np.float32(ohlc.get('c'))\n",
    "    df.loc[i, :] = [t, o, h, l, c]\n",
    "df['time'] = pd.to_datetime(df['time'])\n",
    "df.set_index('time', inplace=True)"
   ]
  },
  {
   "cell_type": "code",
   "execution_count": 9,
   "metadata": {},
   "outputs": [
    {
     "data": {
      "text/html": [
       "<div>\n",
       "<style scoped>\n",
       "    .dataframe tbody tr th:only-of-type {\n",
       "        vertical-align: middle;\n",
       "    }\n",
       "\n",
       "    .dataframe tbody tr th {\n",
       "        vertical-align: top;\n",
       "    }\n",
       "\n",
       "    .dataframe thead th {\n",
       "        text-align: right;\n",
       "    }\n",
       "</style>\n",
       "<table border=\"1\" class=\"dataframe\">\n",
       "  <thead>\n",
       "    <tr style=\"text-align: right;\">\n",
       "      <th></th>\n",
       "      <th>open</th>\n",
       "      <th>high</th>\n",
       "      <th>low</th>\n",
       "      <th>close</th>\n",
       "    </tr>\n",
       "    <tr>\n",
       "      <th>time</th>\n",
       "      <th></th>\n",
       "      <th></th>\n",
       "      <th></th>\n",
       "      <th></th>\n",
       "    </tr>\n",
       "  </thead>\n",
       "  <tbody>\n",
       "    <tr>\n",
       "      <th>2020-01-03 11:30:00+00:00</th>\n",
       "      <td>1.3075</td>\n",
       "      <td>1.3075</td>\n",
       "      <td>1.30537</td>\n",
       "      <td>1.30587</td>\n",
       "    </tr>\n",
       "    <tr>\n",
       "      <th>2020-01-03 11:45:00+00:00</th>\n",
       "      <td>1.30584</td>\n",
       "      <td>1.30618</td>\n",
       "      <td>1.3056</td>\n",
       "      <td>1.30591</td>\n",
       "    </tr>\n",
       "    <tr>\n",
       "      <th>2020-01-03 12:00:00+00:00</th>\n",
       "      <td>1.30588</td>\n",
       "      <td>1.30612</td>\n",
       "      <td>1.30544</td>\n",
       "      <td>1.30573</td>\n",
       "    </tr>\n",
       "    <tr>\n",
       "      <th>2020-01-03 12:15:00+00:00</th>\n",
       "      <td>1.3057</td>\n",
       "      <td>1.30671</td>\n",
       "      <td>1.3057</td>\n",
       "      <td>1.30646</td>\n",
       "    </tr>\n",
       "    <tr>\n",
       "      <th>2020-01-03 12:30:00+00:00</th>\n",
       "      <td>1.30644</td>\n",
       "      <td>1.30782</td>\n",
       "      <td>1.3064</td>\n",
       "      <td>1.30771</td>\n",
       "    </tr>\n",
       "  </tbody>\n",
       "</table>\n",
       "</div>"
      ],
      "text/plain": [
       "                              open     high      low    close\n",
       "time                                                         \n",
       "2020-01-03 11:30:00+00:00   1.3075   1.3075  1.30537  1.30587\n",
       "2020-01-03 11:45:00+00:00  1.30584  1.30618   1.3056  1.30591\n",
       "2020-01-03 12:00:00+00:00  1.30588  1.30612  1.30544  1.30573\n",
       "2020-01-03 12:15:00+00:00   1.3057  1.30671   1.3057  1.30646\n",
       "2020-01-03 12:30:00+00:00  1.30644  1.30782   1.3064  1.30771"
      ]
     },
     "execution_count": 9,
     "metadata": {},
     "output_type": "execute_result"
    }
   ],
   "source": [
    "df.head()"
   ]
  },
  {
   "cell_type": "code",
   "execution_count": 11,
   "metadata": {},
   "outputs": [
    {
     "data": {
      "text/html": [
       "<div>\n",
       "<style scoped>\n",
       "    .dataframe tbody tr th:only-of-type {\n",
       "        vertical-align: middle;\n",
       "    }\n",
       "\n",
       "    .dataframe tbody tr th {\n",
       "        vertical-align: top;\n",
       "    }\n",
       "\n",
       "    .dataframe thead th {\n",
       "        text-align: right;\n",
       "    }\n",
       "</style>\n",
       "<table border=\"1\" class=\"dataframe\">\n",
       "  <thead>\n",
       "    <tr style=\"text-align: right;\">\n",
       "      <th></th>\n",
       "      <th>open</th>\n",
       "      <th>high</th>\n",
       "      <th>low</th>\n",
       "      <th>close</th>\n",
       "    </tr>\n",
       "    <tr>\n",
       "      <th>time</th>\n",
       "      <th></th>\n",
       "      <th></th>\n",
       "      <th></th>\n",
       "      <th></th>\n",
       "    </tr>\n",
       "  </thead>\n",
       "  <tbody>\n",
       "    <tr>\n",
       "      <th>2020-01-03 11:45:00+00:00</th>\n",
       "      <td>-0.001270</td>\n",
       "      <td>-0.001010</td>\n",
       "      <td>0.000176</td>\n",
       "      <td>0.000031</td>\n",
       "    </tr>\n",
       "    <tr>\n",
       "      <th>2020-01-03 12:00:00+00:00</th>\n",
       "      <td>0.000031</td>\n",
       "      <td>-0.000046</td>\n",
       "      <td>-0.000123</td>\n",
       "      <td>-0.000138</td>\n",
       "    </tr>\n",
       "    <tr>\n",
       "      <th>2020-01-03 12:15:00+00:00</th>\n",
       "      <td>-0.000138</td>\n",
       "      <td>0.000452</td>\n",
       "      <td>0.000199</td>\n",
       "      <td>0.000559</td>\n",
       "    </tr>\n",
       "    <tr>\n",
       "      <th>2020-01-03 12:30:00+00:00</th>\n",
       "      <td>0.000567</td>\n",
       "      <td>0.000849</td>\n",
       "      <td>0.000536</td>\n",
       "      <td>0.000957</td>\n",
       "    </tr>\n",
       "    <tr>\n",
       "      <th>2020-01-03 12:45:00+00:00</th>\n",
       "      <td>0.000995</td>\n",
       "      <td>0.000321</td>\n",
       "      <td>0.000666</td>\n",
       "      <td>0.000252</td>\n",
       "    </tr>\n",
       "  </tbody>\n",
       "</table>\n",
       "</div>"
      ],
      "text/plain": [
       "                               open      high       low     close\n",
       "time                                                             \n",
       "2020-01-03 11:45:00+00:00 -0.001270 -0.001010  0.000176  0.000031\n",
       "2020-01-03 12:00:00+00:00  0.000031 -0.000046 -0.000123 -0.000138\n",
       "2020-01-03 12:15:00+00:00 -0.000138  0.000452  0.000199  0.000559\n",
       "2020-01-03 12:30:00+00:00  0.000567  0.000849  0.000536  0.000957\n",
       "2020-01-03 12:45:00+00:00  0.000995  0.000321  0.000666  0.000252"
      ]
     },
     "execution_count": 11,
     "metadata": {},
     "output_type": "execute_result"
    }
   ],
   "source": [
    "dfpct = df.pct_change().dropna()\n",
    "dfpct.head()"
   ]
  },
  {
   "cell_type": "code",
   "execution_count": 12,
   "metadata": {},
   "outputs": [
    {
     "data": {
      "text/plain": [
       "(-33.519720249653034,\n",
       " 0.0,\n",
       " 0,\n",
       " 998,\n",
       " {'1%': -3.4369193380671, '5%': -2.864440383452517, '10%': -2.56831430323573},\n",
       " -12209.164250924256)"
      ]
     },
     "execution_count": 12,
     "metadata": {},
     "output_type": "execute_result"
    }
   ],
   "source": [
    "adfuller(dfpct['open'])"
   ]
  },
  {
   "cell_type": "code",
   "execution_count": null,
   "metadata": {},
   "outputs": [],
   "source": []
  }
 ],
 "metadata": {
  "kernelspec": {
   "display_name": "Python 3",
   "language": "python",
   "name": "python3"
  },
  "language_info": {
   "codemirror_mode": {
    "name": "ipython",
    "version": 3
   },
   "file_extension": ".py",
   "mimetype": "text/x-python",
   "name": "python",
   "nbconvert_exporter": "python",
   "pygments_lexer": "ipython3",
   "version": "3.7.6"
  }
 },
 "nbformat": 4,
 "nbformat_minor": 4
}
