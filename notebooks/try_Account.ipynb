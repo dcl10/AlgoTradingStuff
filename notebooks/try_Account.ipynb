{
 "cells": [
  {
   "cell_type": "code",
   "execution_count": 1,
   "metadata": {},
   "outputs": [],
   "source": [
    "import sys\n",
    "import os\n",
    "import numpy as np\n",
    "import pandas as pd\n",
    "import matplotlib.pyplot as plt\n",
    "import seaborn as sns\n",
    "%matplotlib inline\n",
    "\n",
    "from configparser import ConfigParser\n",
    "from statsmodels.tsa.stattools import adfuller\n",
    "from statsmodels.tsa.arima_model import ARMA"
   ]
  },
  {
   "cell_type": "code",
   "execution_count": 2,
   "metadata": {},
   "outputs": [
    {
     "data": {
      "text/plain": [
       "['C:\\\\Users\\\\leada\\\\AlgoTradingStuff\\\\notebooks',\n",
       " 'c:\\\\users\\\\leada\\\\anaconda3\\\\envs\\\\algotradingstuff\\\\python37.zip',\n",
       " 'c:\\\\users\\\\leada\\\\anaconda3\\\\envs\\\\algotradingstuff\\\\DLLs',\n",
       " 'c:\\\\users\\\\leada\\\\anaconda3\\\\envs\\\\algotradingstuff\\\\lib',\n",
       " 'c:\\\\users\\\\leada\\\\anaconda3\\\\envs\\\\algotradingstuff',\n",
       " '',\n",
       " 'c:\\\\users\\\\leada\\\\anaconda3\\\\envs\\\\algotradingstuff\\\\lib\\\\site-packages',\n",
       " 'c:\\\\users\\\\leada\\\\anaconda3\\\\envs\\\\algotradingstuff\\\\lib\\\\site-packages\\\\win32',\n",
       " 'c:\\\\users\\\\leada\\\\anaconda3\\\\envs\\\\algotradingstuff\\\\lib\\\\site-packages\\\\win32\\\\lib',\n",
       " 'c:\\\\users\\\\leada\\\\anaconda3\\\\envs\\\\algotradingstuff\\\\lib\\\\site-packages\\\\Pythonwin',\n",
       " 'c:\\\\users\\\\leada\\\\anaconda3\\\\envs\\\\algotradingstuff\\\\lib\\\\site-packages\\\\IPython\\\\extensions',\n",
       " 'C:\\\\Users\\\\leada\\\\.ipython']"
      ]
     },
     "execution_count": 2,
     "metadata": {},
     "output_type": "execute_result"
    }
   ],
   "source": [
    "sys.path"
   ]
  },
  {
   "cell_type": "code",
   "execution_count": 3,
   "metadata": {},
   "outputs": [],
   "source": [
    "if 'C:\\\\Users\\\\leada\\\\AlgoTradingStuff' not in sys.path:\n",
    "    sys.path.append('C:\\\\Users\\\\leada\\\\AlgoTradingStuff')"
   ]
  },
  {
   "cell_type": "code",
   "execution_count": 4,
   "metadata": {},
   "outputs": [],
   "source": [
    "from api_models.models import Account, get_account, get_accounts"
   ]
  },
  {
   "cell_type": "code",
   "execution_count": 5,
   "metadata": {},
   "outputs": [],
   "source": [
    "ini = ConfigParser()\n",
    "ini.read('../oanda.txt')\n",
    "api_key = ini['oanda'].get('api_key')\n",
    "base_url = ini['oanda'].get('base_url')\n",
    "account_id = ini['oanda'].get('primary_account')"
   ]
  },
  {
   "cell_type": "code",
   "execution_count": 6,
   "metadata": {},
   "outputs": [],
   "source": [
    "account = Account(api_key=api_key, base_url=base_url, account_id=account_id)"
   ]
  },
  {
   "cell_type": "code",
   "execution_count": 7,
   "metadata": {},
   "outputs": [
    {
     "data": {
      "text/plain": [
       "Account(api_key: <secret>, base_url: https://api-fxpractice.oanda.com/v3, account_id: 101-004-12979612-001"
      ]
     },
     "execution_count": 7,
     "metadata": {},
     "output_type": "execute_result"
    }
   ],
   "source": [
    "account"
   ]
  },
  {
   "cell_type": "code",
   "execution_count": 8,
   "metadata": {},
   "outputs": [
    {
     "name": "stdout",
     "output_type": "stream",
     "text": [
      "381\n"
     ]
    }
   ],
   "source": [
    "import datetime as dt\n",
    "candles = account.get_candles('GBP_JPY', \n",
    "                              start='2019-12-02 00:00:00', \n",
    "                              end='2019-12-12 00:00:00', \n",
    "                              granularity='M30',\n",
    "                              price='B')\n",
    "candles\n",
    "df = pd.DataFrame(columns=['time', 'open', 'high', 'low', 'close'])\n",
    "for i, candle in enumerate(candles):\n",
    "    t = candle.get('time')\n",
    "    ohlc = candle.get('bid')\n",
    "    o = np.float32(ohlc.get('o'))\n",
    "    h = np.float32(ohlc.get('h'))\n",
    "    l = np.float32(ohlc.get('l'))\n",
    "    c = np.float32(ohlc.get('c'))\n",
    "    df.loc[i, :] = [t, o, h, l, c]\n",
    "df['time'] = df['time'].apply(lambda x: dt.datetime.fromtimestamp(float(x)).strftime('%Y-%m-%d %H:%M:%S'))\n",
    "df['time'] = pd.to_datetime(df['time'])\n",
    "df.set_index('time', inplace=True)\n",
    "print(len(df))"
   ]
  },
  {
   "cell_type": "code",
   "execution_count": 9,
   "metadata": {},
   "outputs": [
    {
     "data": {
      "text/html": [
       "<div>\n",
       "<style scoped>\n",
       "    .dataframe tbody tr th:only-of-type {\n",
       "        vertical-align: middle;\n",
       "    }\n",
       "\n",
       "    .dataframe tbody tr th {\n",
       "        vertical-align: top;\n",
       "    }\n",
       "\n",
       "    .dataframe thead th {\n",
       "        text-align: right;\n",
       "    }\n",
       "</style>\n",
       "<table border=\"1\" class=\"dataframe\">\n",
       "  <thead>\n",
       "    <tr style=\"text-align: right;\">\n",
       "      <th></th>\n",
       "      <th>open</th>\n",
       "      <th>high</th>\n",
       "      <th>low</th>\n",
       "      <th>close</th>\n",
       "    </tr>\n",
       "  </thead>\n",
       "  <tbody>\n",
       "    <tr>\n",
       "      <th>count</th>\n",
       "      <td>381.000000</td>\n",
       "      <td>381.000000</td>\n",
       "      <td>381.000000</td>\n",
       "      <td>381.000000</td>\n",
       "    </tr>\n",
       "    <tr>\n",
       "      <th>unique</th>\n",
       "      <td>332.000000</td>\n",
       "      <td>325.000000</td>\n",
       "      <td>331.000000</td>\n",
       "      <td>340.000000</td>\n",
       "    </tr>\n",
       "    <tr>\n",
       "      <th>top</th>\n",
       "      <td>142.600998</td>\n",
       "      <td>142.988007</td>\n",
       "      <td>142.787003</td>\n",
       "      <td>142.794998</td>\n",
       "    </tr>\n",
       "    <tr>\n",
       "      <th>freq</th>\n",
       "      <td>3.000000</td>\n",
       "      <td>4.000000</td>\n",
       "      <td>3.000000</td>\n",
       "      <td>4.000000</td>\n",
       "    </tr>\n",
       "  </tbody>\n",
       "</table>\n",
       "</div>"
      ],
      "text/plain": [
       "              open        high         low       close\n",
       "count   381.000000  381.000000  381.000000  381.000000\n",
       "unique  332.000000  325.000000  331.000000  340.000000\n",
       "top     142.600998  142.988007  142.787003  142.794998\n",
       "freq      3.000000    4.000000    3.000000    4.000000"
      ]
     },
     "execution_count": 9,
     "metadata": {},
     "output_type": "execute_result"
    }
   ],
   "source": [
    "df.describe()"
   ]
  },
  {
   "cell_type": "code",
   "execution_count": 10,
   "metadata": {},
   "outputs": [
    {
     "data": {
      "text/plain": [
       "<matplotlib.axes._subplots.AxesSubplot at 0x254db9e3c48>"
      ]
     },
     "execution_count": 10,
     "metadata": {},
     "output_type": "execute_result"
    },
    {
     "data": {
      "image/png": "[encoded data removed]",
      "text/plain": [
       "<Figure size 432x288 with 1 Axes>"
      ]
     },
     "metadata": {
      "needs_background": "light"
     },
     "output_type": "display_data"
    }
   ],
   "source": [
    "df.plot()"
   ]
  },
  {
   "cell_type": "code",
   "execution_count": 11,
   "metadata": {},
   "outputs": [
    {
     "data": {
      "text/plain": [
       "(-1.2799512009361274,\n",
       " 0.6382940264272727,\n",
       " 0,\n",
       " 380,\n",
       " {'1%': -3.4476763783532585,\n",
       "  '5%': -2.869176103659426,\n",
       "  '10%': -2.570837873961219},\n",
       " -666.0958845354403)"
      ]
     },
     "execution_count": 11,
     "metadata": {},
     "output_type": "execute_result"
    }
   ],
   "source": [
    "adfuller(df['open'])"
   ]
  },
  {
   "cell_type": "code",
   "execution_count": 12,
   "metadata": {},
   "outputs": [
    {
     "data": {
      "text/html": [
       "<div>\n",
       "<style scoped>\n",
       "    .dataframe tbody tr th:only-of-type {\n",
       "        vertical-align: middle;\n",
       "    }\n",
       "\n",
       "    .dataframe tbody tr th {\n",
       "        vertical-align: top;\n",
       "    }\n",
       "\n",
       "    .dataframe thead th {\n",
       "        text-align: right;\n",
       "    }\n",
       "</style>\n",
       "<table border=\"1\" class=\"dataframe\">\n",
       "  <thead>\n",
       "    <tr style=\"text-align: right;\">\n",
       "      <th></th>\n",
       "      <th>open</th>\n",
       "      <th>high</th>\n",
       "      <th>low</th>\n",
       "      <th>close</th>\n",
       "    </tr>\n",
       "  </thead>\n",
       "  <tbody>\n",
       "    <tr>\n",
       "      <th>count</th>\n",
       "      <td>380.000000</td>\n",
       "      <td>380.000000</td>\n",
       "      <td>380.000000</td>\n",
       "      <td>380.000000</td>\n",
       "    </tr>\n",
       "    <tr>\n",
       "      <th>mean</th>\n",
       "      <td>0.000034</td>\n",
       "      <td>0.000031</td>\n",
       "      <td>0.000034</td>\n",
       "      <td>0.000031</td>\n",
       "    </tr>\n",
       "    <tr>\n",
       "      <th>std</th>\n",
       "      <td>0.000669</td>\n",
       "      <td>0.000599</td>\n",
       "      <td>0.000575</td>\n",
       "      <td>0.000666</td>\n",
       "    </tr>\n",
       "    <tr>\n",
       "      <th>min</th>\n",
       "      <td>-0.002903</td>\n",
       "      <td>-0.002748</td>\n",
       "      <td>-0.003287</td>\n",
       "      <td>-0.002910</td>\n",
       "    </tr>\n",
       "    <tr>\n",
       "      <th>25%</th>\n",
       "      <td>-0.000231</td>\n",
       "      <td>-0.000189</td>\n",
       "      <td>-0.000150</td>\n",
       "      <td>-0.000225</td>\n",
       "    </tr>\n",
       "    <tr>\n",
       "      <th>50%</th>\n",
       "      <td>0.000035</td>\n",
       "      <td>0.000007</td>\n",
       "      <td>0.000035</td>\n",
       "      <td>0.000035</td>\n",
       "    </tr>\n",
       "    <tr>\n",
       "      <th>75%</th>\n",
       "      <td>0.000306</td>\n",
       "      <td>0.000232</td>\n",
       "      <td>0.000262</td>\n",
       "      <td>0.000304</td>\n",
       "    </tr>\n",
       "    <tr>\n",
       "      <th>max</th>\n",
       "      <td>0.003306</td>\n",
       "      <td>0.003717</td>\n",
       "      <td>0.003165</td>\n",
       "      <td>0.003306</td>\n",
       "    </tr>\n",
       "  </tbody>\n",
       "</table>\n",
       "</div>"
      ],
      "text/plain": [
       "             open        high         low       close\n",
       "count  380.000000  380.000000  380.000000  380.000000\n",
       "mean     0.000034    0.000031    0.000034    0.000031\n",
       "std      0.000669    0.000599    0.000575    0.000666\n",
       "min     -0.002903   -0.002748   -0.003287   -0.002910\n",
       "25%     -0.000231   -0.000189   -0.000150   -0.000225\n",
       "50%      0.000035    0.000007    0.000035    0.000035\n",
       "75%      0.000306    0.000232    0.000262    0.000304\n",
       "max      0.003306    0.003717    0.003165    0.003306"
      ]
     },
     "execution_count": 12,
     "metadata": {},
     "output_type": "execute_result"
    }
   ],
   "source": [
    "dfpct = df.pct_change().dropna()\n",
    "dfpct.describe()"
   ]
  },
  {
   "cell_type": "code",
   "execution_count": 13,
   "metadata": {},
   "outputs": [
    {
     "data": {
      "text/plain": [
       "(-11.213717438022156,\n",
       " 2.094668054640084e-20,\n",
       " 3,\n",
       " 376,\n",
       " {'1%': -3.4478619826418817,\n",
       "  '5%': -2.869257669826291,\n",
       "  '10%': -2.570881358363513},\n",
       " -4252.516004107627)"
      ]
     },
     "execution_count": 13,
     "metadata": {},
     "output_type": "execute_result"
    }
   ],
   "source": [
    "adfuller(dfpct['open'])"
   ]
  },
  {
   "cell_type": "code",
   "execution_count": 14,
   "metadata": {},
   "outputs": [
    {
     "data": {
      "text/plain": [
       "<matplotlib.axes._subplots.AxesSubplot at 0x254ddb48ec8>"
      ]
     },
     "execution_count": 14,
     "metadata": {},
     "output_type": "execute_result"
    },
    {
     "data": {
      "image/png": "[encoded data removed]",
      "text/plain": [
       "<Figure size 432x288 with 1 Axes>"
      ]
     },
     "metadata": {
      "needs_background": "light"
     },
     "output_type": "display_data"
    }
   ],
   "source": [
    "dfpct.plot()"
   ]
  }
 ],
 "metadata": {
  "kernelspec": {
   "display_name": "Python 3",
   "language": "python",
   "name": "python3"
  },
  "language_info": {
   "codemirror_mode": {
    "name": "ipython",
    "version": 3
   },
   "file_extension": ".py",
   "mimetype": "text/x-python",
   "name": "python",
   "nbconvert_exporter": "python",
   "pygments_lexer": "ipython3",
   "version": "3.7.6"
  }
 },
 "nbformat": 4,
 "nbformat_minor": 4
}
